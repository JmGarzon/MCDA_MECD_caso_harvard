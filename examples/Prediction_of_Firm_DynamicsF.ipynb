{
 "cells": [
  {
   "cell_type": "markdown",
   "id": "e7f2788f",
   "metadata": {},
   "source": [
    "# Supervised Learning for the Prediction of Firm Dynamics"
   ]
  },
  {
   "cell_type": "markdown",
   "id": "b5066cfd",
   "metadata": {},
   "source": [
    "\"Supervised learning for the prediction of firm dynamics\" by F.J. Bargagli-Stoffi, J. Niederreiter and M. Riccaboni in the book \"Data Science for Economics and Finance: Methodologies and Applications\" by S. Consoli, D. Reforgiato Recupero, M. Saisana"
   ]
  },
  {
   "cell_type": "markdown",
   "id": "2d875359",
   "metadata": {},
   "source": [
    "Here show how to implement the supervised learning routine to predict firms' bankruptcy on a dataset of Italian firms' financial accounts. The dataset is a small, random sample of real firm level data used by F.J. Bargagli-Stoffi, M. Riccaboni and A. Rungi for the main analysis of the paper \"Machine learning for zombie hunting. Firms' failures, financial constraints, and misallocation\". For more details on the predictors, we refer the reader to the original paper."
   ]
  },
  {
   "cell_type": "markdown",
   "id": "a79b988a",
   "metadata": {},
   "source": [
    "## A Simple Supervised Learning Routine"
   ]
  },
  {
   "cell_type": "markdown",
   "id": "3d2f5f84",
   "metadata": {},
   "source": [
    "This simple step-by-step guide should aid the reader in designing a supervised learning (SL) routine to predict outcomes from input data.\n",
    "\n",
    "1. Check that information on the outcome of interest is contained for the observations that are later used to train and test the SL algorithm, i.e. that the data set is labeled.\n",
    "\n",
    "2. Prepare the matrix of input attributes to a machine-readable format.\n",
    "\n",
    "    In case of missing values in the input attributes, this missingness has to be dealt with as it can impact results (see \"Machine learning for zombie hunting. Firms' failures, financial constraints, and misallocation\" by Bargagli-Stoffi, Riccaboni and Rungi for more information).\n",
    "    In case it is ambiguous how to select the attributes used as input, the user might want to perform a feature selection step first (see this paper for more information).\n",
    "\n",
    " 3. Choose how to split your data between training and testing set. Keep in mind that both training and testing set have to stay sufficiently large to train the algorithm or to validate its performance, respectively. Use resampling techniques in case of low data dimensions and stratified sampling whenever labels are highly unbalanced. If the data has a time dimension, make sure that the training set is formed by observations that occured before the ones in the testing set.\n",
    "\n",
    "    Choose the SL algorithm that best suits your need. Possible dimensions to evaluate are prediction performance, simplicity of result interpretation and CPU runtime. Often a horserase between many algorithms is performed and the one with the highest prediction performance is chosen. There are already many algorithms already available \"off the shelf\".\n",
    "\n",
    "    Train the algorithm using the training set only. In case hyper-parameters of the algorithm need to be set, choose them using crossfold validation on the training set, or better keep part of the training set only for hyperparameter tuning - but do not use the testing set until the algorithms are fully specified.\n",
    "\n",
    "    Once the algorithm is trained, use it to predict the outcome on the testing set. Compare the predicted outcomes with the true outcomes.\n",
    "\n",
    "    Choose the performance measure on which to evaluate the algorithm(s). Popular performance measures are Accuracy and Area Under the receiver operating Curve (AUC). Choose sensitive performance measure in case your data set is unbalanced such as Balanced Accuracy or the F-score.\n",
    "\n",
    "    Once prediction performance has been assessed, the algorithm can be used to predict outcomes for observations for which the outcome is unknown. Note that valid predictions require that new observations should contain similar features and need to be independent from the outcome of old ones.\n"
   ]
  },
  {
   "cell_type": "code",
   "execution_count": 2,
   "id": "acb00136",
   "metadata": {},
   "outputs": [],
   "source": [
    "import pandas as pd\n",
    "import numpy as np\n",
    "import matplotlib.pyplot as plt\n",
    "import seaborn as sns"
   ]
  },
  {
   "cell_type": "code",
   "execution_count": 3,
   "id": "15a8af24",
   "metadata": {},
   "outputs": [],
   "source": [
    "data = pd.read_excel(\"firmdynamics.xlsx\")"
   ]
  },
  {
   "cell_type": "code",
   "execution_count": 4,
   "id": "7cfb1b6e",
   "metadata": {},
   "outputs": [
    {
     "data": {
      "text/html": [
       "<div>\n",
       "<style scoped>\n",
       "    .dataframe tbody tr th:only-of-type {\n",
       "        vertical-align: middle;\n",
       "    }\n",
       "\n",
       "    .dataframe tbody tr th {\n",
       "        vertical-align: top;\n",
       "    }\n",
       "\n",
       "    .dataframe thead th {\n",
       "        text-align: right;\n",
       "    }\n",
       "</style>\n",
       "<table border=\"1\" class=\"dataframe\">\n",
       "  <thead>\n",
       "    <tr style=\"text-align: right;\">\n",
       "      <th></th>\n",
       "      <th>consdummy</th>\n",
       "      <th>capital_intensity</th>\n",
       "      <th>failure</th>\n",
       "      <th>labour_product</th>\n",
       "      <th>fin_cons</th>\n",
       "      <th>inv</th>\n",
       "      <th>ICR_failure</th>\n",
       "      <th>NEG_VA</th>\n",
       "      <th>real_SA</th>\n",
       "      <th>Z_score</th>\n",
       "      <th>misallocated_fixed</th>\n",
       "      <th>profitability</th>\n",
       "      <th>area</th>\n",
       "      <th>zone</th>\n",
       "      <th>dummy_patents</th>\n",
       "      <th>dummy_trademark</th>\n",
       "      <th>financial_sustainability</th>\n",
       "      <th>car</th>\n",
       "      <th>liquidity_return</th>\n",
       "      <th>pension_tax_debts</th>\n",
       "    </tr>\n",
       "  </thead>\n",
       "  <tbody>\n",
       "    <tr>\n",
       "      <th>0</th>\n",
       "      <td>0</td>\n",
       "      <td>8747.666992</td>\n",
       "      <td>1</td>\n",
       "      <td>53472.000000</td>\n",
       "      <td>0.183684</td>\n",
       "      <td>27780</td>\n",
       "      <td>1</td>\n",
       "      <td>0</td>\n",
       "      <td>-8.510027</td>\n",
       "      <td>2.210402</td>\n",
       "      <td>0</td>\n",
       "      <td>0</td>\n",
       "      <td>center</td>\n",
       "      <td>1</td>\n",
       "      <td>0</td>\n",
       "      <td>0</td>\n",
       "      <td>0.007091</td>\n",
       "      <td>0.589471</td>\n",
       "      <td>0.080847</td>\n",
       "      <td>8.039542e-05</td>\n",
       "    </tr>\n",
       "    <tr>\n",
       "      <th>1</th>\n",
       "      <td>1</td>\n",
       "      <td>373411.593750</td>\n",
       "      <td>1</td>\n",
       "      <td>123995.101562</td>\n",
       "      <td>0.138260</td>\n",
       "      <td>3156624</td>\n",
       "      <td>0</td>\n",
       "      <td>0</td>\n",
       "      <td>-13.442956</td>\n",
       "      <td>1.123584</td>\n",
       "      <td>0</td>\n",
       "      <td>0</td>\n",
       "      <td>center</td>\n",
       "      <td>1</td>\n",
       "      <td>0</td>\n",
       "      <td>0</td>\n",
       "      <td>0.012104</td>\n",
       "      <td>0.252539</td>\n",
       "      <td>0.051523</td>\n",
       "      <td>2.895906e-07</td>\n",
       "    </tr>\n",
       "  </tbody>\n",
       "</table>\n",
       "</div>"
      ],
      "text/plain": [
       "   consdummy  capital_intensity  failure  labour_product  fin_cons      inv  \\\n",
       "0          0        8747.666992        1    53472.000000  0.183684    27780   \n",
       "1          1      373411.593750        1   123995.101562  0.138260  3156624   \n",
       "\n",
       "   ICR_failure  NEG_VA    real_SA   Z_score  misallocated_fixed  \\\n",
       "0            1       0  -8.510027  2.210402                   0   \n",
       "1            0       0 -13.442956  1.123584                   0   \n",
       "\n",
       "   profitability    area  zone  dummy_patents  dummy_trademark  \\\n",
       "0              0  center     1              0                0   \n",
       "1              0  center     1              0                0   \n",
       "\n",
       "   financial_sustainability       car  liquidity_return  pension_tax_debts  \n",
       "0                  0.007091  0.589471          0.080847       8.039542e-05  \n",
       "1                  0.012104  0.252539          0.051523       2.895906e-07  "
      ]
     },
     "execution_count": 4,
     "metadata": {},
     "output_type": "execute_result"
    }
   ],
   "source": [
    "data.head(2)"
   ]
  },
  {
   "cell_type": "code",
   "execution_count": 6,
   "id": "ecac8fe1",
   "metadata": {},
   "outputs": [
    {
     "name": "stdout",
     "output_type": "stream",
     "text": [
      "<class 'pandas.core.frame.DataFrame'>\n",
      "RangeIndex: 5000 entries, 0 to 4999\n",
      "Data columns (total 20 columns):\n",
      " #   Column                    Non-Null Count  Dtype  \n",
      "---  ------                    --------------  -----  \n",
      " 0   consdummy                 5000 non-null   int64  \n",
      " 1   capital_intensity         5000 non-null   float64\n",
      " 2   failure                   5000 non-null   int64  \n",
      " 3   labour_product            5000 non-null   float64\n",
      " 4   fin_cons                  5000 non-null   float64\n",
      " 5   inv                       5000 non-null   int64  \n",
      " 6   ICR_failure               5000 non-null   int64  \n",
      " 7   NEG_VA                    5000 non-null   int64  \n",
      " 8   real_SA                   5000 non-null   float64\n",
      " 9   Z_score                   5000 non-null   float64\n",
      " 10  misallocated_fixed        5000 non-null   int64  \n",
      " 11  profitability             5000 non-null   int64  \n",
      " 12  area                      5000 non-null   object \n",
      " 13  zone                      5000 non-null   int64  \n",
      " 14  dummy_patents             5000 non-null   int64  \n",
      " 15  dummy_trademark           5000 non-null   int64  \n",
      " 16  financial_sustainability  5000 non-null   float64\n",
      " 17  car                       5000 non-null   float64\n",
      " 18  liquidity_return          5000 non-null   float64\n",
      " 19  pension_tax_debts         5000 non-null   float64\n",
      "dtypes: float64(9), int64(10), object(1)\n",
      "memory usage: 781.4+ KB\n"
     ]
    }
   ],
   "source": [
    "data.info()"
   ]
  },
  {
   "cell_type": "code",
   "execution_count": 129,
   "id": "11975e7c",
   "metadata": {},
   "outputs": [
    {
     "data": {
      "text/plain": [
       "consdummy                   0\n",
       "capital_intensity           0\n",
       "failure                     0\n",
       "labour_product              0\n",
       "fin_cons                    0\n",
       "inv                         0\n",
       "ICR_failure                 0\n",
       "NEG_VA                      0\n",
       "real_SA                     0\n",
       "Z_score                     0\n",
       "misallocated_fixed          0\n",
       "profitability               0\n",
       "area                        0\n",
       "zone                        0\n",
       "dummy_patents               0\n",
       "dummy_trademark             0\n",
       "financial_sustainability    0\n",
       "car                         0\n",
       "liquidity_return            0\n",
       "pension_tax_debts           0\n",
       "dtype: int64"
      ]
     },
     "execution_count": 129,
     "metadata": {},
     "output_type": "execute_result"
    }
   ],
   "source": [
    "data.isnull().sum()"
   ]
  },
  {
   "cell_type": "code",
   "execution_count": 8,
   "id": "120f11b2",
   "metadata": {},
   "outputs": [
    {
     "data": {
      "text/html": [
       "<div>\n",
       "<style scoped>\n",
       "    .dataframe tbody tr th:only-of-type {\n",
       "        vertical-align: middle;\n",
       "    }\n",
       "\n",
       "    .dataframe tbody tr th {\n",
       "        vertical-align: top;\n",
       "    }\n",
       "\n",
       "    .dataframe thead th {\n",
       "        text-align: right;\n",
       "    }\n",
       "</style>\n",
       "<table border=\"1\" class=\"dataframe\">\n",
       "  <thead>\n",
       "    <tr style=\"text-align: right;\">\n",
       "      <th></th>\n",
       "      <th>consdummy</th>\n",
       "      <th>capital_intensity</th>\n",
       "      <th>failure</th>\n",
       "      <th>labour_product</th>\n",
       "      <th>fin_cons</th>\n",
       "      <th>inv</th>\n",
       "      <th>ICR_failure</th>\n",
       "      <th>NEG_VA</th>\n",
       "      <th>real_SA</th>\n",
       "      <th>Z_score</th>\n",
       "      <th>misallocated_fixed</th>\n",
       "      <th>profitability</th>\n",
       "      <th>zone</th>\n",
       "      <th>dummy_patents</th>\n",
       "      <th>dummy_trademark</th>\n",
       "      <th>financial_sustainability</th>\n",
       "      <th>car</th>\n",
       "      <th>liquidity_return</th>\n",
       "      <th>pension_tax_debts</th>\n",
       "    </tr>\n",
       "  </thead>\n",
       "  <tbody>\n",
       "    <tr>\n",
       "      <th>count</th>\n",
       "      <td>5000.000000</td>\n",
       "      <td>5.000000e+03</td>\n",
       "      <td>5000.000000</td>\n",
       "      <td>5.000000e+03</td>\n",
       "      <td>5.000000e+03</td>\n",
       "      <td>5.000000e+03</td>\n",
       "      <td>5000.000000</td>\n",
       "      <td>5000.000000</td>\n",
       "      <td>5000.000000</td>\n",
       "      <td>5000.000000</td>\n",
       "      <td>5000.000000</td>\n",
       "      <td>5000.000000</td>\n",
       "      <td>5000.000000</td>\n",
       "      <td>5000.00000</td>\n",
       "      <td>5000.000000</td>\n",
       "      <td>5000.000000</td>\n",
       "      <td>5000.000000</td>\n",
       "      <td>5000.000000</td>\n",
       "      <td>5000.000000</td>\n",
       "    </tr>\n",
       "    <tr>\n",
       "      <th>mean</th>\n",
       "      <td>0.011400</td>\n",
       "      <td>8.042315e+04</td>\n",
       "      <td>0.503000</td>\n",
       "      <td>4.964370e+04</td>\n",
       "      <td>3.587472e-01</td>\n",
       "      <td>4.034969e+05</td>\n",
       "      <td>0.324000</td>\n",
       "      <td>0.037400</td>\n",
       "      <td>-10.853426</td>\n",
       "      <td>1.488705</td>\n",
       "      <td>0.169400</td>\n",
       "      <td>0.069200</td>\n",
       "      <td>2.720000</td>\n",
       "      <td>0.09920</td>\n",
       "      <td>0.103000</td>\n",
       "      <td>0.017525</td>\n",
       "      <td>-0.431838</td>\n",
       "      <td>-3.133551</td>\n",
       "      <td>0.001028</td>\n",
       "    </tr>\n",
       "    <tr>\n",
       "      <th>std</th>\n",
       "      <td>0.106171</td>\n",
       "      <td>3.265397e+05</td>\n",
       "      <td>0.500041</td>\n",
       "      <td>2.552830e+05</td>\n",
       "      <td>3.948048e-01</td>\n",
       "      <td>5.701228e+06</td>\n",
       "      <td>0.468047</td>\n",
       "      <td>0.189759</td>\n",
       "      <td>1.540314</td>\n",
       "      <td>1.058691</td>\n",
       "      <td>0.375142</td>\n",
       "      <td>0.253819</td>\n",
       "      <td>0.944128</td>\n",
       "      <td>0.29896</td>\n",
       "      <td>0.303989</td>\n",
       "      <td>0.062415</td>\n",
       "      <td>139.127354</td>\n",
       "      <td>223.509833</td>\n",
       "      <td>0.065327</td>\n",
       "    </tr>\n",
       "    <tr>\n",
       "      <th>min</th>\n",
       "      <td>0.000000</td>\n",
       "      <td>0.000000e+00</td>\n",
       "      <td>0.000000</td>\n",
       "      <td>-1.617370e+07</td>\n",
       "      <td>9.995370e-07</td>\n",
       "      <td>-7.994934e+07</td>\n",
       "      <td>0.000000</td>\n",
       "      <td>0.000000</td>\n",
       "      <td>-17.649710</td>\n",
       "      <td>0.001156</td>\n",
       "      <td>0.000000</td>\n",
       "      <td>0.000000</td>\n",
       "      <td>1.000000</td>\n",
       "      <td>0.00000</td>\n",
       "      <td>0.000000</td>\n",
       "      <td>-0.086101</td>\n",
       "      <td>-9731.272461</td>\n",
       "      <td>-15804.500000</td>\n",
       "      <td>-0.000032</td>\n",
       "    </tr>\n",
       "    <tr>\n",
       "      <th>25%</th>\n",
       "      <td>0.000000</td>\n",
       "      <td>6.631912e+03</td>\n",
       "      <td>0.000000</td>\n",
       "      <td>2.579000e+04</td>\n",
       "      <td>3.239925e-02</td>\n",
       "      <td>4.810000e+02</td>\n",
       "      <td>0.000000</td>\n",
       "      <td>0.000000</td>\n",
       "      <td>-11.838598</td>\n",
       "      <td>0.804641</td>\n",
       "      <td>0.000000</td>\n",
       "      <td>0.000000</td>\n",
       "      <td>3.000000</td>\n",
       "      <td>0.00000</td>\n",
       "      <td>0.000000</td>\n",
       "      <td>0.001978</td>\n",
       "      <td>0.071924</td>\n",
       "      <td>0.000752</td>\n",
       "      <td>0.000016</td>\n",
       "    </tr>\n",
       "    <tr>\n",
       "      <th>50%</th>\n",
       "      <td>0.000000</td>\n",
       "      <td>2.399929e+04</td>\n",
       "      <td>1.000000</td>\n",
       "      <td>4.204085e+04</td>\n",
       "      <td>1.596647e-01</td>\n",
       "      <td>1.445800e+04</td>\n",
       "      <td>0.000000</td>\n",
       "      <td>0.000000</td>\n",
       "      <td>-10.722895</td>\n",
       "      <td>1.330870</td>\n",
       "      <td>0.000000</td>\n",
       "      <td>0.000000</td>\n",
       "      <td>3.000000</td>\n",
       "      <td>0.00000</td>\n",
       "      <td>0.000000</td>\n",
       "      <td>0.007111</td>\n",
       "      <td>0.290461</td>\n",
       "      <td>0.037416</td>\n",
       "      <td>0.000035</td>\n",
       "    </tr>\n",
       "    <tr>\n",
       "      <th>75%</th>\n",
       "      <td>0.000000</td>\n",
       "      <td>7.422807e+04</td>\n",
       "      <td>1.000000</td>\n",
       "      <td>6.493437e+04</td>\n",
       "      <td>7.620409e-01</td>\n",
       "      <td>1.087580e+05</td>\n",
       "      <td>1.000000</td>\n",
       "      <td>0.000000</td>\n",
       "      <td>-9.750983</td>\n",
       "      <td>1.925080</td>\n",
       "      <td>0.000000</td>\n",
       "      <td>0.000000</td>\n",
       "      <td>3.000000</td>\n",
       "      <td>0.00000</td>\n",
       "      <td>0.000000</td>\n",
       "      <td>0.018749</td>\n",
       "      <td>0.906612</td>\n",
       "      <td>0.083280</td>\n",
       "      <td>0.000079</td>\n",
       "    </tr>\n",
       "    <tr>\n",
       "      <th>max</th>\n",
       "      <td>1.000000</td>\n",
       "      <td>1.120913e+07</td>\n",
       "      <td>1.000000</td>\n",
       "      <td>2.888788e+06</td>\n",
       "      <td>1.000000e+00</td>\n",
       "      <td>1.910130e+08</td>\n",
       "      <td>1.000000</td>\n",
       "      <td>1.000000</td>\n",
       "      <td>-0.989961</td>\n",
       "      <td>9.000000</td>\n",
       "      <td>1.000000</td>\n",
       "      <td>1.000000</td>\n",
       "      <td>4.000000</td>\n",
       "      <td>1.00000</td>\n",
       "      <td>1.000000</td>\n",
       "      <td>2.512209</td>\n",
       "      <td>1224.616333</td>\n",
       "      <td>2.242602</td>\n",
       "      <td>4.618500</td>\n",
       "    </tr>\n",
       "  </tbody>\n",
       "</table>\n",
       "</div>"
      ],
      "text/plain": [
       "         consdummy  capital_intensity      failure  labour_product  \\\n",
       "count  5000.000000       5.000000e+03  5000.000000    5.000000e+03   \n",
       "mean      0.011400       8.042315e+04     0.503000    4.964370e+04   \n",
       "std       0.106171       3.265397e+05     0.500041    2.552830e+05   \n",
       "min       0.000000       0.000000e+00     0.000000   -1.617370e+07   \n",
       "25%       0.000000       6.631912e+03     0.000000    2.579000e+04   \n",
       "50%       0.000000       2.399929e+04     1.000000    4.204085e+04   \n",
       "75%       0.000000       7.422807e+04     1.000000    6.493437e+04   \n",
       "max       1.000000       1.120913e+07     1.000000    2.888788e+06   \n",
       "\n",
       "           fin_cons           inv  ICR_failure       NEG_VA      real_SA  \\\n",
       "count  5.000000e+03  5.000000e+03  5000.000000  5000.000000  5000.000000   \n",
       "mean   3.587472e-01  4.034969e+05     0.324000     0.037400   -10.853426   \n",
       "std    3.948048e-01  5.701228e+06     0.468047     0.189759     1.540314   \n",
       "min    9.995370e-07 -7.994934e+07     0.000000     0.000000   -17.649710   \n",
       "25%    3.239925e-02  4.810000e+02     0.000000     0.000000   -11.838598   \n",
       "50%    1.596647e-01  1.445800e+04     0.000000     0.000000   -10.722895   \n",
       "75%    7.620409e-01  1.087580e+05     1.000000     0.000000    -9.750983   \n",
       "max    1.000000e+00  1.910130e+08     1.000000     1.000000    -0.989961   \n",
       "\n",
       "           Z_score  misallocated_fixed  profitability         zone  \\\n",
       "count  5000.000000         5000.000000    5000.000000  5000.000000   \n",
       "mean      1.488705            0.169400       0.069200     2.720000   \n",
       "std       1.058691            0.375142       0.253819     0.944128   \n",
       "min       0.001156            0.000000       0.000000     1.000000   \n",
       "25%       0.804641            0.000000       0.000000     3.000000   \n",
       "50%       1.330870            0.000000       0.000000     3.000000   \n",
       "75%       1.925080            0.000000       0.000000     3.000000   \n",
       "max       9.000000            1.000000       1.000000     4.000000   \n",
       "\n",
       "       dummy_patents  dummy_trademark  financial_sustainability          car  \\\n",
       "count     5000.00000      5000.000000               5000.000000  5000.000000   \n",
       "mean         0.09920         0.103000                  0.017525    -0.431838   \n",
       "std          0.29896         0.303989                  0.062415   139.127354   \n",
       "min          0.00000         0.000000                 -0.086101 -9731.272461   \n",
       "25%          0.00000         0.000000                  0.001978     0.071924   \n",
       "50%          0.00000         0.000000                  0.007111     0.290461   \n",
       "75%          0.00000         0.000000                  0.018749     0.906612   \n",
       "max          1.00000         1.000000                  2.512209  1224.616333   \n",
       "\n",
       "       liquidity_return  pension_tax_debts  \n",
       "count       5000.000000        5000.000000  \n",
       "mean          -3.133551           0.001028  \n",
       "std          223.509833           0.065327  \n",
       "min       -15804.500000          -0.000032  \n",
       "25%            0.000752           0.000016  \n",
       "50%            0.037416           0.000035  \n",
       "75%            0.083280           0.000079  \n",
       "max            2.242602           4.618500  "
      ]
     },
     "execution_count": 8,
     "metadata": {},
     "output_type": "execute_result"
    }
   ],
   "source": [
    "data.describe()"
   ]
  },
  {
   "cell_type": "code",
   "execution_count": 5,
   "id": "ce685c06",
   "metadata": {},
   "outputs": [
    {
     "data": {
      "text/plain": [
       "1    2515\n",
       "0    2485\n",
       "Name: failure, dtype: int64"
      ]
     },
     "execution_count": 5,
     "metadata": {},
     "output_type": "execute_result"
    }
   ],
   "source": [
    "data.failure.value_counts()"
   ]
  },
  {
   "cell_type": "code",
   "execution_count": 7,
   "id": "7a86d31e",
   "metadata": {},
   "outputs": [
    {
     "data": {
      "text/plain": [
       "0    4943\n",
       "1      57\n",
       "Name: consdummy, dtype: int64"
      ]
     },
     "execution_count": 7,
     "metadata": {},
     "output_type": "execute_result"
    }
   ],
   "source": [
    "data.consdummy.value_counts()"
   ]
  },
  {
   "cell_type": "markdown",
   "id": "6c4c1f4e",
   "metadata": {},
   "source": [
    "### Preparing data"
   ]
  },
  {
   "cell_type": "code",
   "execution_count": 6,
   "id": "da3142fb",
   "metadata": {},
   "outputs": [],
   "source": [
    "y = data['failure'].values"
   ]
  },
  {
   "cell_type": "code",
   "execution_count": 7,
   "id": "6bd099da",
   "metadata": {},
   "outputs": [],
   "source": [
    "predictors = data[[\"consdummy\", \"capital_intensity\", \"labour_product\", \"fin_cons\",\n",
    "              \"inv\", \"ICR_failure\", \"NEG_VA\", \"misallocated_fixed\", \"profitability\",\n",
    "              \"real_SA\", \"Z_score\", \"zone\", \"dummy_patents\", \"dummy_trademark\",\n",
    "              \"financial_sustainability\", \"car\", \"liquidity_return\", \"pension_tax_debts\"]].values"
   ]
  },
  {
   "cell_type": "code",
   "execution_count": 8,
   "id": "dcb466d0",
   "metadata": {},
   "outputs": [],
   "source": [
    "features = data[[\"consdummy\", \"capital_intensity\", \"labour_product\", \"fin_cons\",\n",
    "              \"inv\", \"ICR_failure\", \"NEG_VA\", \"misallocated_fixed\", \"profitability\",\n",
    "              \"real_SA\", \"Z_score\", \"zone\", \"dummy_patents\", \"dummy_trademark\",\n",
    "              \"financial_sustainability\", \"car\", \"liquidity_return\", \"pension_tax_debts\"]]"
   ]
  },
  {
   "cell_type": "code",
   "execution_count": 9,
   "id": "1d25eca1",
   "metadata": {},
   "outputs": [],
   "source": [
    "\n",
    "from sklearn.model_selection import train_test_split"
   ]
  },
  {
   "cell_type": "code",
   "execution_count": 10,
   "id": "3f5f0b95",
   "metadata": {},
   "outputs": [],
   "source": [
    "X_train, X_test, y_train, y_test = train_test_split(predictors, y, test_size = 0.25, random_state = 123)"
   ]
  },
  {
   "cell_type": "markdown",
   "id": "15f05e30",
   "metadata": {},
   "source": [
    "## 2. Supervised Learning Algorithms"
   ]
  },
  {
   "cell_type": "markdown",
   "id": "cc265c58",
   "metadata": {},
   "source": [
    "### 2.1 Decision Trees"
   ]
  },
  {
   "cell_type": "markdown",
   "id": "3baec1b6",
   "metadata": {},
   "source": [
    "#### Description\n",
    "\n",
    "Decision trees commonly consist of a sequence of binary decision rules (nodes) on which the tree splits into branches (edges). At each final branch (leaf node) a decision regarding the outcome is estimated. The sequence of decision rules and the location of each cut-off point is based on minimizing a measure of node purity (e.g., Gini index, or entropy for classification tasks, mean-squared-error for regression tasks). Decision trees are easy to interpret but sensitive to changes in the feature space, frequently lowering their out of sample performance (see Breiman 2017 for a detailed introduction)."
   ]
  },
  {
   "cell_type": "markdown",
   "id": "73377267",
   "metadata": {},
   "source": [
    "#### Example usage in Python"
   ]
  },
  {
   "cell_type": "code",
   "execution_count": 11,
   "id": "2edbc599",
   "metadata": {},
   "outputs": [],
   "source": [
    "# Import the required libraries\n",
    "\n",
    "from sklearn.tree import DecisionTreeClassifier\n",
    "from sklearn.metrics import roc_auc_score, roc_curve, confusion_matrix\n",
    "import matplotlib.pyplot as plt"
   ]
  },
  {
   "cell_type": "code",
   "execution_count": 12,
   "id": "f9a96d54",
   "metadata": {},
   "outputs": [
    {
     "name": "stdout",
     "output_type": "stream",
     "text": [
      "Cross-Validation Results:\n",
      "{'ccp_alphas': array([0.00000000e+00, 3.09627479e-05, 3.77933178e-05, 4.88017429e-05,\n",
      "       5.67901235e-05, 6.05042017e-05, 7.04540315e-05, 7.61904762e-05,\n",
      "       9.74712644e-05, 1.02716049e-04, 1.03150183e-04, 1.06257982e-04,\n",
      "       1.18518519e-04, 1.25714286e-04, 1.46443050e-04, 1.49745433e-04,\n",
      "       1.64444444e-04, 1.65925926e-04, 1.68219833e-04, 1.68421053e-04,\n",
      "       1.71525181e-04, 1.74170692e-04, 1.88007055e-04, 1.95865633e-04,\n",
      "       2.22003284e-04, 2.35570720e-04, 2.40306513e-04, 2.42914980e-04,\n",
      "       2.47372863e-04, 2.51483561e-04, 2.55555556e-04, 2.57264438e-04,\n",
      "       3.04602976e-04, 3.31294118e-04, 3.33333333e-04, 3.49206349e-04,\n",
      "       3.55067742e-04, 3.60000000e-04, 3.65271102e-04, 3.80952381e-04,\n",
      "       3.83141762e-04, 4.04546851e-04, 4.23529412e-04, 4.26128210e-04,\n",
      "       4.29206349e-04, 4.31447246e-04, 4.34051282e-04, 4.34586466e-04,\n",
      "       4.40845704e-04, 4.46082949e-04, 4.50048226e-04, 4.55608183e-04,\n",
      "       4.61685215e-04, 4.61952862e-04, 4.67137384e-04, 4.72170962e-04,\n",
      "       4.74173669e-04, 4.80166147e-04, 4.80613027e-04, 4.82641678e-04,\n",
      "       4.95924496e-04, 5.04421998e-04, 5.07344552e-04, 5.07936508e-04,\n",
      "       5.09932192e-04, 5.23829490e-04, 5.32063492e-04, 5.36022481e-04,\n",
      "       5.36244801e-04, 5.45175479e-04, 5.49610390e-04, 5.56725146e-04,\n",
      "       5.69600890e-04, 5.76688736e-04, 5.77200577e-04, 5.82843902e-04,\n",
      "       5.84340403e-04, 5.91087216e-04, 5.97698547e-04, 6.00166713e-04,\n",
      "       6.09679595e-04, 6.20567376e-04, 6.30039459e-04, 6.49350649e-04,\n",
      "       6.66143791e-04, 6.92318467e-04, 6.93333333e-04, 6.95338346e-04,\n",
      "       6.98173817e-04, 6.99193548e-04, 7.20960961e-04, 7.23142203e-04,\n",
      "       7.24427702e-04, 7.58518519e-04, 7.60496838e-04, 7.67828231e-04,\n",
      "       7.74238278e-04, 7.75888439e-04, 7.89213176e-04, 8.07867391e-04,\n",
      "       8.15030303e-04, 8.34567901e-04, 8.42154882e-04, 8.73766234e-04,\n",
      "       8.75105834e-04, 8.90074074e-04, 8.91345879e-04, 9.30767781e-04,\n",
      "       9.36447924e-04, 9.56049383e-04, 9.70522388e-04, 9.76800977e-04,\n",
      "       9.82941706e-04, 1.00341037e-03, 1.00656770e-03, 1.01039853e-03,\n",
      "       1.02101229e-03, 1.03247710e-03, 1.05152931e-03, 1.05349794e-03,\n",
      "       1.06204264e-03, 1.06879133e-03, 1.09371287e-03, 1.13218673e-03,\n",
      "       1.18053912e-03, 1.18272118e-03, 1.20174593e-03, 1.22582124e-03,\n",
      "       1.22999406e-03, 1.23684765e-03, 1.29178757e-03, 1.35718982e-03,\n",
      "       1.45458404e-03, 1.45728632e-03, 1.46218070e-03, 1.59264650e-03,\n",
      "       1.99426362e-03, 2.59801878e-03, 2.63885913e-03, 2.78239519e-03,\n",
      "       3.09005564e-03, 4.16189152e-03, 4.85030862e-03, 7.26448751e-03,\n",
      "       8.85493838e-03, 1.92472520e-02, 7.90768354e-02]), 'impurities': array([0.20864837, 0.20867933, 0.20871713, 0.20876593, 0.20882272,\n",
      "       0.20888322, 0.20895368, 0.20902987, 0.20912734, 0.20923005,\n",
      "       0.2093332 , 0.20943946, 0.20955798, 0.2096837 , 0.20983014,\n",
      "       0.20997988, 0.21014433, 0.21031025, 0.21047847, 0.2106469 ,\n",
      "       0.21081842, 0.21099259, 0.21136861, 0.2119562 , 0.21217821,\n",
      "       0.21288492, 0.21312522, 0.21336814, 0.21361551, 0.213867  ,\n",
      "       0.21412255, 0.21437982, 0.21468442, 0.21501571, 0.21534905,\n",
      "       0.21569825, 0.21711852, 0.21747852, 0.21784379, 0.21822475,\n",
      "       0.21860789, 0.22022608, 0.22064961, 0.22192799, 0.2223572 ,\n",
      "       0.22278864, 0.22365675, 0.22409133, 0.22453218, 0.22497826,\n",
      "       0.2290287 , 0.23404039, 0.23542544, 0.23634935, 0.23868503,\n",
      "       0.2391572 , 0.23963138, 0.24011154, 0.24059216, 0.24155744,\n",
      "       0.24205337, 0.24255779, 0.24306513, 0.24357307, 0.24510286,\n",
      "       0.24667435, 0.24773848, 0.25577882, 0.25631506, 0.25740541,\n",
      "       0.25795502, 0.25851175, 0.25908135, 0.25965804, 0.26023524,\n",
      "       0.26140093, 0.26198527, 0.26375853, 0.26435623, 0.26495639,\n",
      "       0.26922415, 0.26984472, 0.27299492, 0.27364427, 0.27431041,\n",
      "       0.277772  , 0.27846534, 0.27916067, 0.28265154, 0.28335074,\n",
      "       0.28479266, 0.2855158 , 0.28624023, 0.28699875, 0.29156173,\n",
      "       0.29232956, 0.29310379, 0.29465557, 0.29544478, 0.29625265,\n",
      "       0.29706768, 0.29790225, 0.29958656, 0.30046033, 0.30308564,\n",
      "       0.30664594, 0.31110267, 0.31296421, 0.31390065, 0.3148567 ,\n",
      "       0.31582722, 0.31680403, 0.31778697, 0.31879038, 0.32080351,\n",
      "       0.32383471, 0.32587673, 0.32897416, 0.33107722, 0.33213072,\n",
      "       0.33425481, 0.3353236 , 0.33641731, 0.3375495 , 0.33873004,\n",
      "       0.33991276, 0.34231625, 0.34476789, 0.34722788, 0.34846473,\n",
      "       0.34975652, 0.35111371, 0.35693204, 0.35838933, 0.35985151,\n",
      "       0.36144416, 0.36543268, 0.3680307 , 0.37066956, 0.37345196,\n",
      "       0.37654201, 0.3807039 , 0.38555421, 0.3928187 , 0.40167364,\n",
      "       0.42092089, 0.49999772])}\n"
     ]
    },
    {
     "data": {
      "image/png": "[encoded data removed]",
      "text/plain": [
       "<Figure size 640x480 with 1 Axes>"
      ]
     },
     "metadata": {},
     "output_type": "display_data"
    },
    {
     "name": "stdout",
     "output_type": "stream",
     "text": [
      "Detailed Summary:\n",
      "10\n",
      "50\n"
     ]
    }
   ],
   "source": [
    "\n",
    "\n",
    "# Grow the tree\n",
    "dt = DecisionTreeClassifier(min_samples_split=30, ccp_alpha=0.001)\n",
    "dt.fit(X_train, y_train)\n",
    "\n",
    "# Display the results\n",
    "print(\"Cross-Validation Results:\")\n",
    "print(dt.cost_complexity_pruning_path(X_train, y_train))\n",
    "\n",
    "# Visualize cross-validation results\n",
    "path = dt.cost_complexity_pruning_path(X_train, y_train)\n",
    "ccp_alphas, impurities = path.ccp_alphas, path.impurities\n",
    "plt.figure()\n",
    "plt.plot(ccp_alphas, impurities, marker='o', drawstyle=\"steps-post\")\n",
    "plt.xlabel(\"Effective Alpha\")\n",
    "plt.ylabel(\"Total Impurity of Leaves\")\n",
    "plt.title(\"Total Impurity vs Effective Alpha for Training Set\")\n",
    "plt.show()\n",
    "\n",
    "# Detailed summary of splits\n",
    "print(\"Detailed Summary:\")\n",
    "print(dt.get_depth())\n",
    "print(dt.get_n_leaves())\n",
    "\n"
   ]
  },
  {
   "cell_type": "code",
   "execution_count": null,
   "id": "6558483a",
   "metadata": {},
   "outputs": [],
   "source": [
    "\n",
    "#pip install pydotplus"
   ]
  },
  {
   "cell_type": "code",
   "execution_count": 13,
   "id": "b9e57117",
   "metadata": {},
   "outputs": [],
   "source": [
    "import graphviz"
   ]
  },
  {
   "cell_type": "code",
   "execution_count": 14,
   "id": "89ab06d0",
   "metadata": {},
   "outputs": [],
   "source": [
    "# Create attractive postscript plot of tree\n",
    "# (scikit-learn does not directly support postscript plots, but you can save the tree as an image file instead)\n",
    "from sklearn.tree import export_graphviz\n",
    "from pydotplus import graph_from_dot_data"
   ]
  },
  {
   "cell_type": "code",
   "execution_count": null,
   "id": "7cd4aba8",
   "metadata": {},
   "outputs": [],
   "source": [
    "# Notice: You might need to uncomment and install the pydotplus and graphviz libraries if you have not installed these before\n",
    "#!conda install -c conda-forge pydotplus -y\n",
    "#!conda install -c conda-forge python-graphviz -y"
   ]
  },
  {
   "cell_type": "code",
   "execution_count": 16,
   "id": "8d858ec5",
   "metadata": {},
   "outputs": [],
   "source": [
    "featureNames = features.columns"
   ]
  },
  {
   "cell_type": "code",
   "execution_count": 17,
   "id": "d09eb7bc",
   "metadata": {},
   "outputs": [
    {
     "data": {
      "text/plain": [
       "'tree.pdf'"
      ]
     },
     "execution_count": 17,
     "metadata": {},
     "output_type": "execute_result"
    },
    {
     "data": {
      "text/plain": [
       "<Figure size 1200x800 with 0 Axes>"
      ]
     },
     "metadata": {},
     "output_type": "display_data"
    }
   ],
   "source": [
    "# Plot tree\n",
    "plt.figure(figsize=(12, 8))\n",
    "plot_title = \"Classification Tree\"\n",
    "dt_dot_data = export_graphviz(dt, out_file=None, filled=True, rounded=True, special_characters=True, feature_names= featureNames)\n",
    "graph = graphviz.Source(dt_dot_data)\n",
    "graph.render('tree')  # Save the tree as PDF or PNG\n",
    "graph.view()"
   ]
  },
  {
   "cell_type": "code",
   "execution_count": 18,
   "id": "e89566bc",
   "metadata": {},
   "outputs": [],
   "source": [
    "# Predicted outcomes Decision Tree\n",
    "dt_pred = dt.predict(X_test)"
   ]
  },
  {
   "cell_type": "code",
   "execution_count": 22,
   "id": "0294930c",
   "metadata": {},
   "outputs": [
    {
     "data": {
      "text/plain": [
       "(1250,)"
      ]
     },
     "execution_count": 22,
     "metadata": {},
     "output_type": "execute_result"
    }
   ],
   "source": [
    "y_test.shape"
   ]
  },
  {
   "cell_type": "code",
   "execution_count": 23,
   "id": "37577ee9",
   "metadata": {},
   "outputs": [
    {
     "data": {
      "text/plain": [
       "(1250,)"
      ]
     },
     "execution_count": 23,
     "metadata": {},
     "output_type": "execute_result"
    }
   ],
   "source": [
    "dt_pred.shape"
   ]
  },
  {
   "cell_type": "code",
   "execution_count": 19,
   "id": "03e74716",
   "metadata": {},
   "outputs": [],
   "source": [
    "\n",
    "\n",
    "# Generate table that compares true outcomes of the testing set with predicted outcomes of decision tree\n",
    "dt_tab = pd.crosstab(y_test, dt_pred, rownames=['True'], colnames=['Predicted'])\n",
    "\n",
    "\n",
    "# Calculate AUC value of predictions in the testing set\n",
    "dt_auc = roc_auc_score(y_test, dt_pred)"
   ]
  },
  {
   "cell_type": "code",
   "execution_count": 20,
   "id": "1a135202",
   "metadata": {},
   "outputs": [
    {
     "data": {
      "text/html": [
       "<div>\n",
       "<style scoped>\n",
       "    .dataframe tbody tr th:only-of-type {\n",
       "        vertical-align: middle;\n",
       "    }\n",
       "\n",
       "    .dataframe tbody tr th {\n",
       "        vertical-align: top;\n",
       "    }\n",
       "\n",
       "    .dataframe thead th {\n",
       "        text-align: right;\n",
       "    }\n",
       "</style>\n",
       "<table border=\"1\" class=\"dataframe\">\n",
       "  <thead>\n",
       "    <tr style=\"text-align: right;\">\n",
       "      <th>Predicted</th>\n",
       "      <th>0</th>\n",
       "      <th>1</th>\n",
       "    </tr>\n",
       "    <tr>\n",
       "      <th>True</th>\n",
       "      <th></th>\n",
       "      <th></th>\n",
       "    </tr>\n",
       "  </thead>\n",
       "  <tbody>\n",
       "    <tr>\n",
       "      <th>0</th>\n",
       "      <td>432</td>\n",
       "      <td>182</td>\n",
       "    </tr>\n",
       "    <tr>\n",
       "      <th>1</th>\n",
       "      <td>175</td>\n",
       "      <td>461</td>\n",
       "    </tr>\n",
       "  </tbody>\n",
       "</table>\n",
       "</div>"
      ],
      "text/plain": [
       "Predicted    0    1\n",
       "True               \n",
       "0          432  182\n",
       "1          175  461"
      ]
     },
     "execution_count": 20,
     "metadata": {},
     "output_type": "execute_result"
    }
   ],
   "source": [
    "dt_tab"
   ]
  },
  {
   "cell_type": "code",
   "execution_count": null,
   "id": "07194ec7",
   "metadata": {},
   "outputs": [],
   "source": [
    "#accuracy = (TP + TN)/N"
   ]
  },
  {
   "cell_type": "code",
   "execution_count": 17,
   "id": "5e5a8526",
   "metadata": {},
   "outputs": [
    {
     "data": {
      "text/plain": [
       "0.7142129145924241"
      ]
     },
     "execution_count": 17,
     "metadata": {},
     "output_type": "execute_result"
    }
   ],
   "source": [
    "dt_auc"
   ]
  },
  {
   "cell_type": "code",
   "execution_count": 21,
   "id": "89c07610",
   "metadata": {},
   "outputs": [
    {
     "data": {
      "image/png": "[encoded data removed]",
      "text/plain": [
       "<Figure size 640x480 with 1 Axes>"
      ]
     },
     "metadata": {},
     "output_type": "display_data"
    },
    {
     "name": "stdout",
     "output_type": "stream",
     "text": [
      "AUC value: 0.7142129145924241\n"
     ]
    }
   ],
   "source": [
    "\n",
    "\n",
    "# Generate ROC curve and calculate AUC value of predictions in the testing set\n",
    "dt_roc_auc = roc_auc_score(y_test, dt_pred)\n",
    "fpr, tpr, thresholds = roc_curve(y_test, dt_pred)\n",
    "\n",
    "# Plot ROC curve\n",
    "plt.figure()\n",
    "plt.plot(fpr, tpr, color='darkorange', lw=2, label='ROC curve (area = %0.2f)' % dt_roc_auc)\n",
    "plt.plot([0, 1], [0, 1], color='navy', lw=2, linestyle='--')\n",
    "plt.xlim([0.0, 1.0])\n",
    "plt.ylim([0.0, 1.05])\n",
    "plt.xlabel('False Positive Rate')\n",
    "plt.ylabel('True Positive Rate')\n",
    "plt.title('Receiver Operating Characteristic (ROC)')\n",
    "plt.legend(loc=\"lower right\")\n",
    "plt.show()\n",
    "\n",
    "# Print AUC value\n",
    "print(\"AUC value:\", dt_roc_auc)"
   ]
  },
  {
   "cell_type": "markdown",
   "id": "09b89fcf",
   "metadata": {},
   "source": [
    "## 2.2 Random Forest"
   ]
  },
  {
   "cell_type": "markdown",
   "id": "2bae2ed8",
   "metadata": {},
   "source": [
    "### Description\n",
    "\n",
    "Instead of estimating just one DT, random forest resamples the training set observations to estimate multiple trees. For each tree at each node a sample of m predictors is chosen randomly from the feature space. To obtain the final prediction the outcomes all trees are averaged or in classification tasks the chosen by majority vote (see also the original contribution of Breiman, 2001)\n",
    "\n",
    "### Example usage in Python"
   ]
  },
  {
   "cell_type": "code",
   "execution_count": 37,
   "id": "2120f9b6",
   "metadata": {},
   "outputs": [],
   "source": [
    "# Import the required libraries\n",
    "\n",
    "from sklearn.ensemble import RandomForestClassifier\n",
    "from sklearn.metrics import roc_auc_score, roc_curve, confusion_matrix, precision_score\n",
    "from sklearn.metrics import recall_score\n",
    "from sklearn.metrics import classification_report"
   ]
  },
  {
   "cell_type": "code",
   "execution_count": 23,
   "id": "a3dc51e0",
   "metadata": {},
   "outputs": [],
   "source": [
    "# Assuming 'trainfeatures', 'trainoutcome', 'testfeatures', and 'testoutcome' are numpy arrays or pandas DataFrames\n",
    "\n",
    "# Train the Random Forest\n",
    "obj_rf = RandomForestClassifier(n_estimators=500, max_features=8, random_state=34)\n",
    "obj_rf.fit(X_train, y_train)\n",
    "\n",
    "# Get predicted values\n",
    "rf_pred = obj_rf.predict(X_test)\n",
    "\n"
   ]
  },
  {
   "cell_type": "code",
   "execution_count": 24,
   "id": "e95c2c01",
   "metadata": {},
   "outputs": [
    {
     "data": {
      "text/plain": [
       "(1250,)"
      ]
     },
     "execution_count": 24,
     "metadata": {},
     "output_type": "execute_result"
    }
   ],
   "source": [
    "rf_pred.shape"
   ]
  },
  {
   "cell_type": "code",
   "execution_count": 164,
   "id": "44d12537",
   "metadata": {},
   "outputs": [
    {
     "data": {
      "text/plain": [
       "(18,)"
      ]
     },
     "execution_count": 164,
     "metadata": {},
     "output_type": "execute_result"
    }
   ],
   "source": [
    "featureNames.shape"
   ]
  },
  {
   "cell_type": "code",
   "execution_count": 25,
   "id": "2303c1eb",
   "metadata": {},
   "outputs": [],
   "source": [
    "# Generate table that compares true outcomes of the testing set with predicted outcomes of random forest\n",
    "rf_tab = pd.crosstab(y_test, rf_pred, rownames=['True'], colnames=['Predicted'])\n"
   ]
  },
  {
   "cell_type": "code",
   "execution_count": 26,
   "id": "1f9289fb",
   "metadata": {},
   "outputs": [
    {
     "data": {
      "text/html": [
       "<div>\n",
       "<style scoped>\n",
       "    .dataframe tbody tr th:only-of-type {\n",
       "        vertical-align: middle;\n",
       "    }\n",
       "\n",
       "    .dataframe tbody tr th {\n",
       "        vertical-align: top;\n",
       "    }\n",
       "\n",
       "    .dataframe thead th {\n",
       "        text-align: right;\n",
       "    }\n",
       "</style>\n",
       "<table border=\"1\" class=\"dataframe\">\n",
       "  <thead>\n",
       "    <tr style=\"text-align: right;\">\n",
       "      <th>Predicted</th>\n",
       "      <th>0</th>\n",
       "      <th>1</th>\n",
       "    </tr>\n",
       "    <tr>\n",
       "      <th>True</th>\n",
       "      <th></th>\n",
       "      <th></th>\n",
       "    </tr>\n",
       "  </thead>\n",
       "  <tbody>\n",
       "    <tr>\n",
       "      <th>0</th>\n",
       "      <td>484</td>\n",
       "      <td>130</td>\n",
       "    </tr>\n",
       "    <tr>\n",
       "      <th>1</th>\n",
       "      <td>186</td>\n",
       "      <td>450</td>\n",
       "    </tr>\n",
       "  </tbody>\n",
       "</table>\n",
       "</div>"
      ],
      "text/plain": [
       "Predicted    0    1\n",
       "True               \n",
       "0          484  130\n",
       "1          186  450"
      ]
     },
     "execution_count": 26,
     "metadata": {},
     "output_type": "execute_result"
    }
   ],
   "source": [
    "rf_tab "
   ]
  },
  {
   "cell_type": "code",
   "execution_count": 28,
   "id": "8d0f0d0e",
   "metadata": {},
   "outputs": [],
   "source": [
    "confmat = confusion_matrix(y_test, rf_pred)"
   ]
  },
  {
   "cell_type": "code",
   "execution_count": 29,
   "id": "598411dc",
   "metadata": {},
   "outputs": [
    {
     "data": {
      "text/plain": [
       "array([[484, 130],\n",
       "       [186, 450]], dtype=int64)"
      ]
     },
     "execution_count": 29,
     "metadata": {},
     "output_type": "execute_result"
    }
   ],
   "source": [
    "confmat"
   ]
  },
  {
   "cell_type": "code",
   "execution_count": 33,
   "id": "c125a706",
   "metadata": {},
   "outputs": [
    {
     "data": {
      "text/plain": [
       "0.7758620689655172"
      ]
     },
     "execution_count": 33,
     "metadata": {},
     "output_type": "execute_result"
    }
   ],
   "source": [
    "precision_score(y_test, rf_pred)"
   ]
  },
  {
   "cell_type": "code",
   "execution_count": 34,
   "id": "386bbbe9",
   "metadata": {},
   "outputs": [
    {
     "data": {
      "text/plain": [
       "0.7758620689655172"
      ]
     },
     "execution_count": 34,
     "metadata": {},
     "output_type": "execute_result"
    }
   ],
   "source": [
    "(450)/(450+130)"
   ]
  },
  {
   "cell_type": "code",
   "execution_count": 38,
   "id": "9577fd27",
   "metadata": {},
   "outputs": [
    {
     "data": {
      "text/plain": [
       "0.7075471698113207"
      ]
     },
     "execution_count": 38,
     "metadata": {},
     "output_type": "execute_result"
    }
   ],
   "source": [
    "recall_score(y_test, rf_pred)"
   ]
  },
  {
   "cell_type": "code",
   "execution_count": 39,
   "id": "04280751",
   "metadata": {},
   "outputs": [
    {
     "data": {
      "text/plain": [
       "0.7075471698113207"
      ]
     },
     "execution_count": 39,
     "metadata": {},
     "output_type": "execute_result"
    }
   ],
   "source": [
    "450/(186+450)"
   ]
  },
  {
   "cell_type": "code",
   "execution_count": 41,
   "id": "1a704f68",
   "metadata": {},
   "outputs": [
    {
     "name": "stdout",
     "output_type": "stream",
     "text": [
      "              precision    recall  f1-score   support\n",
      "\n",
      "           0       0.72      0.79      0.75       614\n",
      "           1       0.78      0.71      0.74       636\n",
      "\n",
      "    accuracy                           0.75      1250\n",
      "   macro avg       0.75      0.75      0.75      1250\n",
      "weighted avg       0.75      0.75      0.75      1250\n",
      "\n"
     ]
    }
   ],
   "source": [
    "print(classification_report(y_test, rf_pred))"
   ]
  },
  {
   "cell_type": "code",
   "execution_count": 167,
   "id": "a4df3372",
   "metadata": {},
   "outputs": [],
   "source": [
    "# Generate ROC curve and calculate AUC value of predictions in the testing set\n",
    "rf_prob = obj_rf.predict_proba(X_test)[:, 1]  # Probability of positive class\n",
    "rf_roc_auc = roc_auc_score(y_test, rf_prob)"
   ]
  },
  {
   "cell_type": "code",
   "execution_count": 169,
   "id": "fc3359dd",
   "metadata": {},
   "outputs": [
    {
     "data": {
      "text/plain": [
       "array([0.788, 0.176, 0.862, ..., 0.256, 0.412, 0.634])"
      ]
     },
     "execution_count": 169,
     "metadata": {},
     "output_type": "execute_result"
    }
   ],
   "source": [
    "rf_prob"
   ]
  },
  {
   "cell_type": "code",
   "execution_count": 168,
   "id": "1f75e2dd",
   "metadata": {},
   "outputs": [
    {
     "data": {
      "text/plain": [
       "0.8148994632577387"
      ]
     },
     "execution_count": 168,
     "metadata": {},
     "output_type": "execute_result"
    }
   ],
   "source": [
    "rf_roc_auc"
   ]
  },
  {
   "cell_type": "code",
   "execution_count": 170,
   "id": "ebb3d16b",
   "metadata": {},
   "outputs": [
    {
     "data": {
      "image/png": "[encoded data removed]",
      "text/plain": [
       "<Figure size 640x480 with 1 Axes>"
      ]
     },
     "metadata": {},
     "output_type": "display_data"
    },
    {
     "name": "stdout",
     "output_type": "stream",
     "text": [
      "AUC value: 0.8148994632577387\n"
     ]
    }
   ],
   "source": [
    "\n",
    "\n",
    "\n",
    "fpr, tpr, thresholds = roc_curve(y_test, rf_prob)\n",
    "\n",
    "# Plot ROC curve\n",
    "plt.figure()\n",
    "plt.plot(fpr, tpr, color='darkorange', lw=2, label='ROC curve (area = %0.2f)' % rf_roc_auc)\n",
    "plt.plot([0, 1], [0, 1], color='navy', lw=2, linestyle='--')\n",
    "plt.xlim([0.0, 1.0])\n",
    "plt.ylim([0.0, 1.05])\n",
    "plt.xlabel('False Positive Rate')\n",
    "plt.ylabel('True Positive Rate')\n",
    "plt.title('Receiver Operating Characteristic (ROC)')\n",
    "plt.legend(loc=\"lower right\")\n",
    "plt.show()\n",
    "\n",
    "# Print AUC value\n",
    "print(\"AUC value:\", rf_roc_auc)\n"
   ]
  },
  {
   "cell_type": "markdown",
   "id": "a60e4a14",
   "metadata": {},
   "source": [
    "#### Description\n",
    "\n",
    "Support vector machines (SVM) & Support vector machine algorithms estimate a hyperplane over the feature space to classify observations. The vectors that span the hyperplane are called support vectors. They are chosen such that the overall distance (called margin) between the data points and the hyperplane as well as the prediction accuracy is maximized (see also Steinwart 2008).\n",
    "\n"
   ]
  },
  {
   "cell_type": "code",
   "execution_count": 108,
   "id": "f1f659db",
   "metadata": {},
   "outputs": [],
   "source": [
    "# Import the required libraries\n",
    "from sklearn.svm import SVC\n",
    "from sklearn.metrics import roc_auc_score, roc_curve, confusion_matrix"
   ]
  },
  {
   "cell_type": "code",
   "execution_count": 173,
   "id": "1ee2dc8e",
   "metadata": {},
   "outputs": [],
   "source": [
    "\n",
    "\n",
    "\n",
    "# Train the Support Vector Machine\n",
    "obj_svm = SVC(probability=True)  # probability=True to enable probability estimates\n",
    "obj_svm.fit(X_train, y_train)\n",
    "\n",
    "# Get predicted values\n",
    "svm_pred = obj_svm.predict(X_test)\n",
    "\n",
    "# Generate table that compares true outcomes of the testing set with predicted outcomes of random forest\n",
    "svm_tab = pd.crosstab(y_test, svm_pred, rownames=['True'], colnames=['Predicted'])"
   ]
  },
  {
   "cell_type": "code",
   "execution_count": 174,
   "id": "5653e57c",
   "metadata": {},
   "outputs": [
    {
     "data": {
      "text/html": [
       "<div>\n",
       "<style scoped>\n",
       "    .dataframe tbody tr th:only-of-type {\n",
       "        vertical-align: middle;\n",
       "    }\n",
       "\n",
       "    .dataframe tbody tr th {\n",
       "        vertical-align: top;\n",
       "    }\n",
       "\n",
       "    .dataframe thead th {\n",
       "        text-align: right;\n",
       "    }\n",
       "</style>\n",
       "<table border=\"1\" class=\"dataframe\">\n",
       "  <thead>\n",
       "    <tr style=\"text-align: right;\">\n",
       "      <th>Predicted</th>\n",
       "      <th>0</th>\n",
       "      <th>1</th>\n",
       "    </tr>\n",
       "    <tr>\n",
       "      <th>True</th>\n",
       "      <th></th>\n",
       "      <th></th>\n",
       "    </tr>\n",
       "  </thead>\n",
       "  <tbody>\n",
       "    <tr>\n",
       "      <th>0</th>\n",
       "      <td>94</td>\n",
       "      <td>520</td>\n",
       "    </tr>\n",
       "    <tr>\n",
       "      <th>1</th>\n",
       "      <td>52</td>\n",
       "      <td>584</td>\n",
       "    </tr>\n",
       "  </tbody>\n",
       "</table>\n",
       "</div>"
      ],
      "text/plain": [
       "Predicted   0    1\n",
       "True              \n",
       "0          94  520\n",
       "1          52  584"
      ]
     },
     "execution_count": 174,
     "metadata": {},
     "output_type": "execute_result"
    }
   ],
   "source": [
    "svm_tab"
   ]
  },
  {
   "cell_type": "code",
   "execution_count": 177,
   "id": "36479eb2",
   "metadata": {},
   "outputs": [],
   "source": [
    "# Generate ROC curve and calculate AUC value of predictions in the testing set\n",
    "svm_prob = obj_svm.predict_proba(X_test)[:, 1]  # Probability of positive class\n",
    "svm_roc_auc = roc_auc_score(y_test, svm_prob)\n"
   ]
  },
  {
   "cell_type": "code",
   "execution_count": 178,
   "id": "3b153e69",
   "metadata": {},
   "outputs": [
    {
     "data": {
      "text/plain": [
       "0.6735321533198123"
      ]
     },
     "execution_count": 178,
     "metadata": {},
     "output_type": "execute_result"
    }
   ],
   "source": [
    "svm_roc_auc"
   ]
  },
  {
   "cell_type": "code",
   "execution_count": 179,
   "id": "13cbacae",
   "metadata": {},
   "outputs": [
    {
     "data": {
      "image/png": "[encoded data removed]",
      "text/plain": [
       "<Figure size 640x480 with 1 Axes>"
      ]
     },
     "metadata": {},
     "output_type": "display_data"
    },
    {
     "name": "stdout",
     "output_type": "stream",
     "text": [
      "AUC value: 0.6735321533198123\n"
     ]
    }
   ],
   "source": [
    "\n",
    "fpr, tpr, thresholds = roc_curve(y_test, svm_prob)\n",
    "\n",
    "# Plot ROC curve\n",
    "plt.figure()\n",
    "plt.plot(fpr, tpr, color='darkorange', lw=2, label='ROC curve (area = %0.2f)' % svm_roc_auc)\n",
    "plt.plot([0, 1], [0, 1], color='navy', lw=2, linestyle='--')\n",
    "plt.xlim([0.0, 1.0])\n",
    "plt.ylim([0.0, 1.05])\n",
    "plt.xlabel('False Positive Rate')\n",
    "plt.ylabel('True Positive Rate')\n",
    "plt.title('Receiver Operating Characteristic (ROC)')\n",
    "plt.legend(loc=\"lower right\")\n",
    "plt.show()\n",
    "\n",
    "# Print AUC value\n",
    "print(\"AUC value:\", svm_roc_auc)\n"
   ]
  },
  {
   "cell_type": "code",
   "execution_count": null,
   "id": "c94829c1",
   "metadata": {},
   "outputs": [],
   "source": []
  }
 ],
 "metadata": {
  "kernelspec": {
   "display_name": "Python 3 (ipykernel)",
   "language": "python",
   "name": "python3"
  },
  "language_info": {
   "codemirror_mode": {
    "name": "ipython",
    "version": 3
   },
   "file_extension": ".py",
   "mimetype": "text/x-python",
   "name": "python",
   "nbconvert_exporter": "python",
   "pygments_lexer": "ipython3",
   "version": "3.9.13"
  }
 },
 "nbformat": 4,
 "nbformat_minor": 5
}
